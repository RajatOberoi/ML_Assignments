{
 "cells": [
  {
   "cell_type": "code",
   "execution_count": 1,
   "metadata": {},
   "outputs": [],
   "source": [
    "import numpy as np"
   ]
  },
  {
   "cell_type": "code",
   "execution_count": 2,
   "metadata": {},
   "outputs": [
    {
     "name": "stdout",
     "output_type": "stream",
     "text": [
      "Conditional Probability =  0.0303030303030303\n"
     ]
    }
   ],
   "source": [
    "\"\"\"\n",
    "Q.1 - Consider the below given probabilities: \n",
    "P(A) = 11 / 36\n",
    "P(B) = 6 / 36\n",
    "P(A|B) = 2 / 36\n",
    "Write a function in Python which takes 3 probabilities as argument and outputs the Conditional probability P(B|A).\n",
    "\"\"\"\n",
    "p1 = 11/36\n",
    "p2 = 6/36\n",
    "p12 = 2/36\n",
    "def condprob(a,b,c):\n",
    "     print('Conditional Probability = ',(c*b)/a)\n",
    "condprob(p1,p2,p12)"
   ]
  },
  {
   "cell_type": "code",
   "execution_count": 3,
   "metadata": {},
   "outputs": [
    {
     "name": "stdout",
     "output_type": "stream",
     "text": [
      "Probablity that ball drawn is from bag 1 =  0.5833333333333334\n"
     ]
    }
   ],
   "source": [
    "\"\"\"\n",
    "Q.2 - Bag I contains 4 white and 6 black balls while another Bag II contains 4 white and 3 black balls.\n",
    "One ball is drawn at random from one of the bags and it is found to be black.\n",
    "Find the probability that it was drawn from Bag I.\n",
    "\"\"\"\n",
    "white1 = 4\n",
    "black1 = 6\n",
    "white2 = 4\n",
    "black2 = 3\n",
    "pb1=1/2 #probability of drawing ball from bag1\n",
    "pb2=1/2 #probability of drawing ball from bag2\n",
    "b2=3/7 #probability of drawing black ball from bag2\n",
    "b1=6/10 #probability of drawing black  ball from bag1\n",
    "\n",
    "# since drawn ball is black,to find it is of 1st bag\n",
    "pb=(b1*pb1)/((pb1*b1)+(pb2*b2))\n",
    "print(\"Probablity that ball drawn is from bag 1 = \",pb)"
   ]
  },
  {
   "cell_type": "code",
   "execution_count": 4,
   "metadata": {},
   "outputs": [
    {
     "name": "stdout",
     "output_type": "stream",
     "text": [
      "Probablity that no. obtained is actually 4 =  0.2857142857142857\n"
     ]
    }
   ],
   "source": [
    "\"\"\"\n",
    "Q.3 - A man is known to speak truth 2 out of 3 times.\n",
    "He throws a die and reports that number obtained is a four.\n",
    "Find the probability that the number obtained is actually a four.\n",
    "\"\"\"\n",
    "pa=1/6\n",
    "p=5/6\n",
    "pt=2/3\n",
    "pnt=1/3\n",
    "Pf=(pa*pt)/((pa*pt)+(p*pnt))\n",
    "print(\"Probablity that no. obtained is actually 4 = \",Pf)"
   ]
  }
 ],
 "metadata": {
  "kernelspec": {
   "display_name": "Python [conda env:Anaconda3]",
   "language": "python",
   "name": "conda-env-Anaconda3-py"
  },
  "language_info": {
   "codemirror_mode": {
    "name": "ipython",
    "version": 3
   },
   "file_extension": ".py",
   "mimetype": "text/x-python",
   "name": "python",
   "nbconvert_exporter": "python",
   "pygments_lexer": "ipython3",
   "version": "3.6.5"
  }
 },
 "nbformat": 4,
 "nbformat_minor": 2
}
